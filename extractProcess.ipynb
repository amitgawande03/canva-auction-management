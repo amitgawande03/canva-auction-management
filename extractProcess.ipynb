{
 "cells": [
  {
   "cell_type": "code",
   "execution_count": null,
   "id": "929f172b",
   "metadata": {},
   "outputs": [],
   "source": [
    "import pandas as pd\n",
    "\n",
    "def process_excel_files():\n",
    "    \"\"\"Process both Excel files and create merged dataset with player_id\"\"\"\n",
    "    \n",
    "    # Load the Excel files\n",
    "    try:\n",
    "        players_df = pd.read_excel(\"PCL-8_PlayersList.xlsx\")\n",
    "        players_runs_df = pd.read_excel(\"PCL_runs.xlsx\")\n",
    "        players_wickets_df = pd.read_excel(\"PCL_wickets.xlsx\")\n",
    "    except Exception as e:\n",
    "        raise Exception(f\"Error loading files: {str(e)}\")\n",
    "    \n",
    "    # get Unique names from all data and create unique ids.\n",
    "    unique_names = pd.concat([players_df['Name'], players_runs_df['Name'],\n",
    "     players_wickets_df['Name']]).unique()\n",
    "    name_to_id = {name: idx + 1 for idx, name in enumerate(unique_names)}\n",
    "\n",
    "   #add players_id in all dataset\n",
    "\n",
    "    players_df['player_id'] = players_df['Name'].map(name_to_id)\n",
    "    players_runs_df['player_id'] = players_runs_df['Name'].map(name_to_id)\n",
    "    players_wickets_df['player_id'] = players_wickets_df['Name'].map(name_to_id)\n",
    "    \n",
    "    # Merge the dataframes on the 'Name' column\n",
    "\n",
    "    merged_df = pd.merge(players_df, players_runs_df, on='player_id', how='outer', suffixes=('', '_stats'))\n",
    "    all_merge_df = pd.merge(merged_df, players_wickets_df, on='player_id', how='outer', suffixes=('', '_wickets'))\n",
    "    # Save the merged dataframe to a new Excel\n",
    "    print(\"Merged DataFrame saved to 'merged_data.xlsx'\")\n",
    "    print(all_merge_df.head(10))\n",
    "    all_merge_df.to_excel('merged_data.xlsx', index=False)\n",
    "   "
   ]
  },
  {
   "cell_type": "code",
   "execution_count": 10,
   "id": "4715c7fc",
   "metadata": {},
   "outputs": [
    {
     "name": "stdout",
     "output_type": "stream",
     "text": [
      "Merged DataFrame saved to 'merged_data.xlsx'\n",
      "               Name  player_id        Name_stats    Runs        Seasons\n",
      "0  Sandeep Bhiwgade          1  Sandeep Bhiwgade   282.0  1,2,3,4,5,6,7\n",
      "1     Sumedh Gandhi          2     Sumedh Gandhi  1219.0  1,2,3,4,5,6,7\n",
      "2   Pravin Kalbande          3   Pravin Kalbande   219.0            6,7\n",
      "3   Shyam Dhanotiya          4               NaN     NaN            NaN\n",
      "4    Shailesh Joshi          5    Shailesh Joshi    96.0  1,2,3,4,5,6,7\n",
      "5       Akash Pande          6       Akash Pande    21.0              7\n",
      "6      Geet Gattani          7      Geet Gattani    60.0              7\n",
      "7       Sagar Varma          8       Sagar Varma   122.0            6,7\n",
      "8    Nikhil Dusawar          9               NaN     NaN            NaN\n",
      "9     Rahul Bhakre          10               NaN     NaN            NaN\n"
     ]
    }
   ],
   "source": [
    "process_excel_files()"
   ]
  },
  {
   "cell_type": "code",
   "execution_count": null,
   "id": "20513ccf",
   "metadata": {},
   "outputs": [],
   "source": [
    " stats_df['full_name'] = self.create_full_name(stats_df, stats_first_col, stats_last_col)\n",
    "    \n",
    "    # Get unique names from both datasets and generate IDs\n",
    "    all_names = pd.concat([players_df['full_name'], stats_df['full_name']]).unique()\n",
    "    name_to_id = {name: idx + 1 for idx, name in enumerate(all_names)}\n",
    "    \n",
    "    # Add player_id to both dataframes\n",
    "    players_df['player_id'] = players_df['full_name'].map(name_to_id)\n",
    "    stats_df['player_id'] = stats_df['full_name'].map(name_to_id)\n",
    "    \n",
    "    # Merge the dataframes on player_id\n",
    "    merged_df = pd.merge(players_df, stats_df, on='player_id', how='outer', suffixes=('', '_stats'))\n",
    "    \n",
    "    # Clean up duplicate columns\n",
    "    if 'full_name_stats' in merged_df.columns:\n",
    "        merged_df = merged_df.drop('full_name_stats', axis=1)\n",
    "    \n",
    "    return players_df, stats_df, merged_df, name_to_id\n",
    "\n",
    "def create_full_name(df, first_col, last_col):\n",
    "    \"\"\"Create full names from first and last names\"\"\"\n",
    "    return df[first_col] + ' ' + df[last_col]"
   ]
  }
 ],
 "metadata": {
  "kernelspec": {
   "display_name": "Python 3",
   "language": "python",
   "name": "python3"
  },
  "language_info": {
   "codemirror_mode": {
    "name": "ipython",
    "version": 3
   },
   "file_extension": ".py",
   "mimetype": "text/x-python",
   "name": "python",
   "nbconvert_exporter": "python",
   "pygments_lexer": "ipython3",
   "version": "3.11.9"
  }
 },
 "nbformat": 4,
 "nbformat_minor": 5
}
