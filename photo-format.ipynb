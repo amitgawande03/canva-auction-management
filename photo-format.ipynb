{
 "cells": [
  {
   "cell_type": "code",
   "execution_count": null,
   "id": "8ea8bfae",
   "metadata": {},
   "outputs": [
    {
     "name": "stdout",
     "output_type": "stream",
     "text": [
      "Renamed: Attachment.csv -> Attachment.jpg\n",
      "Renamed: Contact.csv -> Contact.jpg\n",
      "Renamed: ContentBody.csv -> ContentBody.jpg\n",
      "Renamed: ContentReference.csv -> ContentReference.jpg\n",
      "Renamed: Document.csv -> Document.jpg\n",
      "Renamed: FileFieldData.csv -> FileFieldData.jpg\n",
      "Renamed: RichTextAreaFieldData.csv -> RichTextAreaFieldData.jpg\n"
     ]
    }
   ],
   "source": [
    "import os\n",
    "\n",
    "# set your directory path\n",
    "folder = r\"C:\\cricket\\canva-bidding\\photos\\Attachments\"\n",
    "\n",
    "for filename in os.listdir(folder):\n",
    "    file_path = os.path.join(folder, filename)\n",
    "    \n",
    "    # skip if it's a directory\n",
    "    if os.path.isdir(file_path):\n",
    "        continue\n",
    "\n",
    "    # remove old extension and add .jpg\n",
    "    new_filename = os.path.splitext(filename)[0] + \".jpg\"\n",
    "    new_path = os.path.join(folder, new_filename)\n",
    "\n",
    "    os.rename(file_path, new_path)\n",
    "    print(f\"Renamed: {filename} -> {new_filename}\")\n"
   ]
  }
 ],
 "metadata": {
  "kernelspec": {
   "display_name": "Python 3",
   "language": "python",
   "name": "python3"
  },
  "language_info": {
   "codemirror_mode": {
    "name": "ipython",
    "version": 3
   },
   "file_extension": ".py",
   "mimetype": "text/x-python",
   "name": "python",
   "nbconvert_exporter": "python",
   "pygments_lexer": "ipython3",
   "version": "3.11.9"
  }
 },
 "nbformat": 4,
 "nbformat_minor": 5
}
